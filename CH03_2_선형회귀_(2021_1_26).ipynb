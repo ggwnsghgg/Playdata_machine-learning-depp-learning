{
  "nbformat": 4,
  "nbformat_minor": 0,
  "metadata": {
    "colab": {
      "name": "CH03 - 2 선형회귀 (2021 / 1  / 26).ipynb",
      "provenance": [],
      "collapsed_sections": [],
      "authorship_tag": "ABX9TyN/nJlkqMQQVwQ6xNHu2hcq",
      "include_colab_link": true
    },
    "kernelspec": {
      "name": "python3",
      "display_name": "Python 3"
    }
  },
  "cells": [
    {
      "cell_type": "markdown",
      "metadata": {
        "id": "view-in-github",
        "colab_type": "text"
      },
      "source": [
        "<a href=\"https://colab.research.google.com/github/ggwnsghgg/Playdata_machine-learning-depp-learning/blob/main/CH03_2_%EC%84%A0%ED%98%95%ED%9A%8C%EA%B7%80_(2021_1_26).ipynb\" target=\"_parent\"><img src=\"https://colab.research.google.com/assets/colab-badge.svg\" alt=\"Open In Colab\"/></a>"
      ]
    },
    {
      "cell_type": "code",
      "metadata": {
        "id": "AuRcyQ8jiLh7"
      },
      "source": [
        "import numpy as np\r\n",
        "\r\n",
        "perch_length = np.array([8.4, 13.7, 15.0, 16.2, 17.4, 18.0, 18.7, 19.0, 19.6, 20.0, 21.0,\r\n",
        "       21.0, 21.0, 21.3, 22.0, 22.0, 22.0, 22.0, 22.0, 22.5, 22.5, 22.7,\r\n",
        "       23.0, 23.5, 24.0, 24.0, 24.6, 25.0, 25.6, 26.5, 27.3, 27.5, 27.5,\r\n",
        "       27.5, 28.0, 28.7, 30.0, 32.8, 34.5, 35.0, 36.5, 36.0, 37.0, 37.0,\r\n",
        "       39.0, 39.0, 39.0, 40.0, 40.0, 40.0, 40.0, 42.0, 43.0, 43.0, 43.5,\r\n",
        "       44.0])\r\n",
        "perch_weight = np.array([5.9, 32.0, 40.0, 51.5, 70.0, 100.0, 78.0, 80.0, 85.0, 85.0, 110.0,\r\n",
        "       115.0, 125.0, 130.0, 120.0, 120.0, 130.0, 135.0, 110.0, 130.0,\r\n",
        "       150.0, 145.0, 150.0, 170.0, 225.0, 145.0, 188.0, 180.0, 197.0,\r\n",
        "       218.0, 300.0, 260.0, 265.0, 250.0, 250.0, 300.0, 320.0, 514.0,\r\n",
        "       556.0, 840.0, 685.0, 700.0, 700.0, 690.0, 900.0, 650.0, 820.0,\r\n",
        "       850.0, 900.0, 1015.0, 820.0, 1100.0, 1000.0, 1100.0, 1000.0,\r\n",
        "       1000.0])"
      ],
      "execution_count": null,
      "outputs": []
    },
    {
      "cell_type": "code",
      "metadata": {
        "id": "hSc84NSKiRmN"
      },
      "source": [
        "from sklearn.model_selection import train_test_split\r\n",
        "\r\n",
        "# 훈련 세트와 테스트 세트로 나눕니다\r\n",
        "train_input, test_input, train_target, test_target = train_test_split(\r\n",
        "    perch_length, perch_weight, random_state=42)\r\n",
        "# 훈련 세트와 테스트 세트를 2차원 배열로 바꿉니다\r\n",
        "train_input = train_input.reshape(-1, 1)\r\n",
        "test_input = test_input.reshape(-1, 1)"
      ],
      "execution_count": null,
      "outputs": []
    },
    {
      "cell_type": "code",
      "metadata": {
        "colab": {
          "base_uri": "https://localhost:8080/"
        },
        "id": "7QS0e0dTidSI",
        "outputId": "9bb327f9-34c7-4af1-c068-44b46608d2eb"
      },
      "source": [
        "from sklearn.neighbors import KNeighborsRegressor\r\n",
        "\r\n",
        "knr = KNeighborsRegressor(n_neighbors=3)\r\n",
        "# k-최근접 이웃 회귀 모델을 훈련합니다\r\n",
        "knr.fit(train_input, train_target)"
      ],
      "execution_count": null,
      "outputs": [
        {
          "output_type": "execute_result",
          "data": {
            "text/plain": [
              "KNeighborsRegressor(algorithm='auto', leaf_size=30, metric='minkowski',\n",
              "                    metric_params=None, n_jobs=None, n_neighbors=3, p=2,\n",
              "                    weights='uniform')"
            ]
          },
          "metadata": {
            "tags": []
          },
          "execution_count": 9
        }
      ]
    },
    {
      "cell_type": "code",
      "metadata": {
        "colab": {
          "base_uri": "https://localhost:8080/"
        },
        "id": "N6lpSiFYi_sT",
        "outputId": "c79de42a-16b8-4e3a-e1c9-97713ddefe7d"
      },
      "source": [
        "print(knr.predict([[50]]))"
      ],
      "execution_count": null,
      "outputs": [
        {
          "output_type": "stream",
          "text": [
            "[1033.33333333]\n"
          ],
          "name": "stdout"
        }
      ]
    },
    {
      "cell_type": "code",
      "metadata": {
        "colab": {
          "base_uri": "https://localhost:8080/",
          "height": 264
        },
        "id": "KkJKPYB6jB-t",
        "outputId": "5ecde8f0-266f-4fb9-be70-c1b1b2c11640"
      },
      "source": [
        "import matplotlib.pyplot as plt\r\n",
        "\r\n",
        "# 50cm 농어의 이웃을 구합니다\r\n",
        "distances, indexes = knr.kneighbors([[50]])\r\n",
        "\r\n",
        "# 훈련 세트의 산점도를 그립니다\r\n",
        "plt.scatter(train_input, train_target)\r\n",
        "\r\n",
        "# 훈련 세트 중에서 이웃 샘플만 다시 그립니다\r\n",
        "plt.scatter(train_input[indexes], train_target[indexes], marker='D')\r\n",
        "\r\n",
        "# 50cm 농어 데이터\r\n",
        "plt.scatter(50, 1033, marker='^')\r\n",
        "plt.show()"
      ],
      "execution_count": null,
      "outputs": [
        {
          "output_type": "display_data",
          "data": {
            "image/png": "[encoded data removed]",
            "text/plain": [
              "<Figure size 432x288 with 1 Axes>"
            ]
          },
          "metadata": {
            "tags": [],
            "needs_background": "light"
          }
        }
      ]
    },
    {
      "cell_type": "code",
      "metadata": {
        "colab": {
          "base_uri": "https://localhost:8080/"
        },
        "id": "dwIwy3KPjrat",
        "outputId": "1d85ec0f-2236-45f6-a838-5537a4bbca9f"
      },
      "source": [
        "print(np.mean(train_target[indexes]))"
      ],
      "execution_count": null,
      "outputs": [
        {
          "output_type": "stream",
          "text": [
            "1033.3333333333333\n"
          ],
          "name": "stdout"
        }
      ]
    },
    {
      "cell_type": "code",
      "metadata": {
        "colab": {
          "base_uri": "https://localhost:8080/",
          "height": 264
        },
        "id": "be7znptSkM0W",
        "outputId": "3a7b289f-23e6-41ec-f12f-7feab7b54a44"
      },
      "source": [
        "import matplotlib.pyplot as plt\r\n",
        "\r\n",
        "# 50cm 농어의 이웃을 구합니다\r\n",
        "distances, indexes = knr.kneighbors([[100]])\r\n",
        "\r\n",
        "# 훈련 세트의 산점도를 그립니다\r\n",
        "plt.scatter(train_input, train_target)\r\n",
        "\r\n",
        "# 훈련 세트 중에서 이웃 샘플만 다시 그립니다\r\n",
        "plt.scatter(train_input[indexes], train_target[indexes], marker='D')\r\n",
        "\r\n",
        "# 50cm 농어 데이터\r\n",
        "plt.scatter(100, 1033, marker='^')\r\n",
        "plt.show()"
      ],
      "execution_count": null,
      "outputs": [
        {
          "output_type": "display_data",
          "data": {
            "image/png": "[encoded data removed]",
            "text/plain": [
              "<Figure size 432x288 with 1 Axes>"
            ]
          },
          "metadata": {
            "tags": [],
            "needs_background": "light"
          }
        }
      ]
    },
    {
      "cell_type": "code",
      "metadata": {
        "id": "2NKzZm7_k4Q1"
      },
      "source": [
        "from sklearn.linear_model import LinearRegression"
      ],
      "execution_count": null,
      "outputs": []
    },
    {
      "cell_type": "code",
      "metadata": {
        "colab": {
          "base_uri": "https://localhost:8080/"
        },
        "id": "xkNDgma2qB07",
        "outputId": "db9a4778-2cfa-49a0-86fb-7f2e4611ffbb"
      },
      "source": [
        "lr = LinearRegression()\r\n",
        "# 선형 회귀 모델 훈련\r\n",
        "lr.fit(train_input, train_target)"
      ],
      "execution_count": null,
      "outputs": [
        {
          "output_type": "execute_result",
          "data": {
            "text/plain": [
              "LinearRegression(copy_X=True, fit_intercept=True, n_jobs=None, normalize=False)"
            ]
          },
          "metadata": {
            "tags": []
          },
          "execution_count": 15
        }
      ]
    },
    {
      "cell_type": "code",
      "metadata": {
        "colab": {
          "base_uri": "https://localhost:8080/"
        },
        "id": "jMkkuoE4qC3N",
        "outputId": "604bf424-b94e-4510-ef06-4dbd30b6e72b"
      },
      "source": [
        "# 50cm 농어에 대한 예측\r\n",
        "print(lr.predict([[50]]))"
      ],
      "execution_count": null,
      "outputs": [
        {
          "output_type": "stream",
          "text": [
            "[1241.83860323]\n"
          ],
          "name": "stdout"
        }
      ]
    },
    {
      "cell_type": "code",
      "metadata": {
        "colab": {
          "base_uri": "https://localhost:8080/"
        },
        "id": "OJePyxu4qDqq",
        "outputId": "2ade8300-15aa-463f-c5c4-7fd2ac187302"
      },
      "source": [
        "print(lr.coef_, lr.intercept_)"
      ],
      "execution_count": null,
      "outputs": [
        {
          "output_type": "stream",
          "text": [
            "[39.01714496] -709.0186449535477\n"
          ],
          "name": "stdout"
        }
      ]
    },
    {
      "cell_type": "code",
      "metadata": {
        "colab": {
          "base_uri": "https://localhost:8080/",
          "height": 278
        },
        "id": "1g2QiAfgqFEJ",
        "outputId": "a7312bb6-4e1a-4235-a6b3-2069d893df4a"
      },
      "source": [
        "# 훈련 세트의 산점도를 그립니다\u001f\r\n",
        "plt.scatter(train_input, train_target)\r\n",
        "# 15에서 50까지 1차 방정식 그래프를 그립니다\r\n",
        "plt.plot([15, 50], [15*lr.coef_+lr.intercept_, 50*lr.coef_+lr.intercept_])\r\n",
        "# 50cm 농어 데이터\r\n",
        "plt.scatter(50, 1241.8, marker='^')\r\n",
        "plt.xlabel('length')\r\n",
        "plt.ylabel('weight')\r\n",
        "plt.show()"
      ],
      "execution_count": null,
      "outputs": [
        {
          "output_type": "display_data",
          "data": {
            "image/png": "[encoded data removed]",
            "text/plain": [
              "<Figure size 432x288 with 1 Axes>"
            ]
          },
          "metadata": {
            "tags": [],
            "needs_background": "light"
          }
        }
      ]
    },
    {
      "cell_type": "code",
      "metadata": {
        "id": "1cQ5X2gTqGQP"
      },
      "source": [
        ""
      ],
      "execution_count": null,
      "outputs": []
    }
  ]
}